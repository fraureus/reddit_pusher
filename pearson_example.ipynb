{
 "cells": [
  {
   "cell_type": "markdown",
   "metadata": {},
   "source": [
    "```python\n",
    "from scipy import stats\n",
    "\n",
    "stats.pearsonr(a, b)\n",
    "```"
   ]
  },
  {
   "cell_type": "markdown",
   "metadata": {},
   "source": [
    "> For example: horsepower & price"
   ]
  },
  {
   "cell_type": "code",
   "execution_count": 1,
   "metadata": {},
   "outputs": [],
   "source": [
    "import pandas as pd\n",
    "\n",
    "df = pd.read_csv(\"https://archive.ics.uci.edu/ml/machine-learning-databases/autos/imports-85.data\")"
   ]
  },
  {
   "cell_type": "code",
   "execution_count": 2,
   "metadata": {},
   "outputs": [
    {
     "data": {
      "text/html": [
       "<div>\n",
       "<style scoped>\n",
       "    .dataframe tbody tr th:only-of-type {\n",
       "        vertical-align: middle;\n",
       "    }\n",
       "\n",
       "    .dataframe tbody tr th {\n",
       "        vertical-align: top;\n",
       "    }\n",
       "\n",
       "    .dataframe thead th {\n",
       "        text-align: right;\n",
       "    }\n",
       "</style>\n",
       "<table border=\"1\" class=\"dataframe\">\n",
       "  <thead>\n",
       "    <tr style=\"text-align: right;\">\n",
       "      <th></th>\n",
       "      <th>3</th>\n",
       "      <th>?</th>\n",
       "      <th>alfa-romero</th>\n",
       "      <th>gas</th>\n",
       "      <th>std</th>\n",
       "      <th>two</th>\n",
       "      <th>convertible</th>\n",
       "      <th>rwd</th>\n",
       "      <th>front</th>\n",
       "      <th>88.60</th>\n",
       "      <th>...</th>\n",
       "      <th>130</th>\n",
       "      <th>mpfi</th>\n",
       "      <th>3.47</th>\n",
       "      <th>2.68</th>\n",
       "      <th>9.00</th>\n",
       "      <th>111</th>\n",
       "      <th>5000</th>\n",
       "      <th>21</th>\n",
       "      <th>27</th>\n",
       "      <th>13495</th>\n",
       "    </tr>\n",
       "  </thead>\n",
       "  <tbody>\n",
       "    <tr>\n",
       "      <th>0</th>\n",
       "      <td>3</td>\n",
       "      <td>?</td>\n",
       "      <td>alfa-romero</td>\n",
       "      <td>gas</td>\n",
       "      <td>std</td>\n",
       "      <td>two</td>\n",
       "      <td>convertible</td>\n",
       "      <td>rwd</td>\n",
       "      <td>front</td>\n",
       "      <td>88.6</td>\n",
       "      <td>...</td>\n",
       "      <td>130</td>\n",
       "      <td>mpfi</td>\n",
       "      <td>3.47</td>\n",
       "      <td>2.68</td>\n",
       "      <td>9.0</td>\n",
       "      <td>111</td>\n",
       "      <td>5000</td>\n",
       "      <td>21</td>\n",
       "      <td>27</td>\n",
       "      <td>16500</td>\n",
       "    </tr>\n",
       "    <tr>\n",
       "      <th>1</th>\n",
       "      <td>1</td>\n",
       "      <td>?</td>\n",
       "      <td>alfa-romero</td>\n",
       "      <td>gas</td>\n",
       "      <td>std</td>\n",
       "      <td>two</td>\n",
       "      <td>hatchback</td>\n",
       "      <td>rwd</td>\n",
       "      <td>front</td>\n",
       "      <td>94.5</td>\n",
       "      <td>...</td>\n",
       "      <td>152</td>\n",
       "      <td>mpfi</td>\n",
       "      <td>2.68</td>\n",
       "      <td>3.47</td>\n",
       "      <td>9.0</td>\n",
       "      <td>154</td>\n",
       "      <td>5000</td>\n",
       "      <td>19</td>\n",
       "      <td>26</td>\n",
       "      <td>16500</td>\n",
       "    </tr>\n",
       "    <tr>\n",
       "      <th>2</th>\n",
       "      <td>2</td>\n",
       "      <td>164</td>\n",
       "      <td>audi</td>\n",
       "      <td>gas</td>\n",
       "      <td>std</td>\n",
       "      <td>four</td>\n",
       "      <td>sedan</td>\n",
       "      <td>fwd</td>\n",
       "      <td>front</td>\n",
       "      <td>99.8</td>\n",
       "      <td>...</td>\n",
       "      <td>109</td>\n",
       "      <td>mpfi</td>\n",
       "      <td>3.19</td>\n",
       "      <td>3.40</td>\n",
       "      <td>10.0</td>\n",
       "      <td>102</td>\n",
       "      <td>5500</td>\n",
       "      <td>24</td>\n",
       "      <td>30</td>\n",
       "      <td>13950</td>\n",
       "    </tr>\n",
       "    <tr>\n",
       "      <th>3</th>\n",
       "      <td>2</td>\n",
       "      <td>164</td>\n",
       "      <td>audi</td>\n",
       "      <td>gas</td>\n",
       "      <td>std</td>\n",
       "      <td>four</td>\n",
       "      <td>sedan</td>\n",
       "      <td>4wd</td>\n",
       "      <td>front</td>\n",
       "      <td>99.4</td>\n",
       "      <td>...</td>\n",
       "      <td>136</td>\n",
       "      <td>mpfi</td>\n",
       "      <td>3.19</td>\n",
       "      <td>3.40</td>\n",
       "      <td>8.0</td>\n",
       "      <td>115</td>\n",
       "      <td>5500</td>\n",
       "      <td>18</td>\n",
       "      <td>22</td>\n",
       "      <td>17450</td>\n",
       "    </tr>\n",
       "    <tr>\n",
       "      <th>4</th>\n",
       "      <td>2</td>\n",
       "      <td>?</td>\n",
       "      <td>audi</td>\n",
       "      <td>gas</td>\n",
       "      <td>std</td>\n",
       "      <td>two</td>\n",
       "      <td>sedan</td>\n",
       "      <td>fwd</td>\n",
       "      <td>front</td>\n",
       "      <td>99.8</td>\n",
       "      <td>...</td>\n",
       "      <td>136</td>\n",
       "      <td>mpfi</td>\n",
       "      <td>3.19</td>\n",
       "      <td>3.40</td>\n",
       "      <td>8.5</td>\n",
       "      <td>110</td>\n",
       "      <td>5500</td>\n",
       "      <td>19</td>\n",
       "      <td>25</td>\n",
       "      <td>15250</td>\n",
       "    </tr>\n",
       "  </tbody>\n",
       "</table>\n",
       "<p>5 rows × 26 columns</p>\n",
       "</div>"
      ],
      "text/plain": [
       "   3    ?  alfa-romero  gas  std   two  convertible  rwd  front  88.60  ...    \\\n",
       "0  3    ?  alfa-romero  gas  std   two  convertible  rwd  front   88.6  ...     \n",
       "1  1    ?  alfa-romero  gas  std   two    hatchback  rwd  front   94.5  ...     \n",
       "2  2  164         audi  gas  std  four        sedan  fwd  front   99.8  ...     \n",
       "3  2  164         audi  gas  std  four        sedan  4wd  front   99.4  ...     \n",
       "4  2    ?         audi  gas  std   two        sedan  fwd  front   99.8  ...     \n",
       "\n",
       "   130  mpfi  3.47  2.68  9.00  111  5000  21  27  13495  \n",
       "0  130  mpfi  3.47  2.68   9.0  111  5000  21  27  16500  \n",
       "1  152  mpfi  2.68  3.47   9.0  154  5000  19  26  16500  \n",
       "2  109  mpfi  3.19  3.40  10.0  102  5500  24  30  13950  \n",
       "3  136  mpfi  3.19  3.40   8.0  115  5500  18  22  17450  \n",
       "4  136  mpfi  3.19  3.40   8.5  110  5500  19  25  15250  \n",
       "\n",
       "[5 rows x 26 columns]"
      ]
     },
     "execution_count": 2,
     "metadata": {},
     "output_type": "execute_result"
    }
   ],
   "source": [
    "df.head()"
   ]
  },
  {
   "cell_type": "code",
   "execution_count": 5,
   "metadata": {},
   "outputs": [],
   "source": [
    "from scipy import stats"
   ]
  },
  {
   "cell_type": "code",
   "execution_count": 27,
   "metadata": {},
   "outputs": [],
   "source": [
    "engine_size = df.iloc[:,[16]].values.ravel()\n",
    "car_price = df.iloc[:,[25]].values.ravel()"
   ]
  },
  {
   "cell_type": "code",
   "execution_count": 33,
   "metadata": {},
   "outputs": [
    {
     "data": {
      "text/plain": [
       "array([130, 152, 109, 136, 136, 136, 136, 131, 131, 108, 108, 164, 164,\n",
       "       164, 209, 209, 209,  61,  90,  90,  90,  90,  98,  90,  90,  90,\n",
       "        98, 122, 156,  92,  92,  79,  92,  92,  92,  92, 110, 110, 110,\n",
       "       110, 110, 110, 111,  90,  90, 119, 258, 258, 326,  91,  91,  91,\n",
       "        91,  91,  70,  70,  70,  80, 122, 122, 122, 122, 122, 122, 140,\n",
       "       134, 183, 183, 183, 183, 234, 234, 308, 304, 140,  92,  92,  92,\n",
       "        98, 110, 122, 156, 156, 156, 122, 122, 110, 110,  97, 103,  97,\n",
       "        97,  97,  97,  97,  97,  97,  97, 120, 120, 181, 181, 181, 181,\n",
       "       181, 181, 120, 152, 120, 152, 120, 152, 120, 152, 120, 152, 134,\n",
       "        90,  98,  90,  90,  98, 122, 156, 151, 194, 194, 194, 203, 132,\n",
       "       132, 121, 121, 121, 121, 121, 121,  97, 108, 108, 108, 108, 108,\n",
       "       108, 108, 108, 108, 108, 108,  92,  92,  92,  92,  92,  92,  98,\n",
       "        98, 110, 110,  98,  98,  98,  98,  98,  98,  98, 146, 146, 146,\n",
       "       146, 146, 146, 122, 110, 122, 122, 122, 171, 171, 171, 161,  97,\n",
       "       109,  97, 109, 109,  97, 109, 109, 109, 136,  97, 109, 141, 141,\n",
       "       141, 141, 130, 130, 141, 141, 173, 145, 141], dtype=int64)"
      ]
     },
     "execution_count": 33,
     "metadata": {},
     "output_type": "execute_result"
    }
   ],
   "source": [
    "engine_size"
   ]
  },
  {
   "cell_type": "code",
   "execution_count": 28,
   "metadata": {},
   "outputs": [
    {
     "data": {
      "text/plain": [
       "array(['16500', '16500', '13950', '17450', '15250', '17710', '18920',\n",
       "       '23875', '?', '16430', '16925', '20970', '21105', '24565', '30760',\n",
       "       '41315', '36880', '5151', '6295', '6575', '5572', '6377', '7957',\n",
       "       '6229', '6692', '7609', '8558', '8921', '12964', '6479', '6855',\n",
       "       '5399', '6529', '7129', '7295', '7295', '7895', '9095', '8845',\n",
       "       '10295', '12945', '10345', '6785', '?', '?', '11048', '32250',\n",
       "       '35550', '36000', '5195', '6095', '6795', '6695', '7395', '10945',\n",
       "       '11845', '13645', '15645', '8845', '8495', '10595', '10245',\n",
       "       '10795', '11245', '18280', '18344', '25552', '28248', '28176',\n",
       "       '31600', '34184', '35056', '40960', '45400', '16503', '5389',\n",
       "       '6189', '6669', '7689', '9959', '8499', '12629', '14869', '14489',\n",
       "       '6989', '8189', '9279', '9279', '5499', '7099', '6649', '6849',\n",
       "       '7349', '7299', '7799', '7499', '7999', '8249', '8949', '9549',\n",
       "       '13499', '14399', '13499', '17199', '19699', '18399', '11900',\n",
       "       '13200', '12440', '13860', '15580', '16900', '16695', '17075',\n",
       "       '16630', '17950', '18150', '5572', '7957', '6229', '6692', '7609',\n",
       "       '8921', '12764', '22018', '32528', '34028', '37028', '?', '9295',\n",
       "       '9895', '11850', '12170', '15040', '15510', '18150', '18620',\n",
       "       '5118', '7053', '7603', '7126', '7775', '9960', '9233', '11259',\n",
       "       '7463', '10198', '8013', '11694', '5348', '6338', '6488', '6918',\n",
       "       '7898', '8778', '6938', '7198', '7898', '7788', '7738', '8358',\n",
       "       '9258', '8058', '8238', '9298', '9538', '8449', '9639', '9989',\n",
       "       '11199', '11549', '17669', '8948', '10698', '9988', '10898',\n",
       "       '11248', '16558', '15998', '15690', '15750', '7775', '7975',\n",
       "       '7995', '8195', '8495', '9495', '9995', '11595', '9980', '13295',\n",
       "       '13845', '12290', '12940', '13415', '15985', '16515', '18420',\n",
       "       '18950', '16845', '19045', '21485', '22470', '22625'], dtype=object)"
      ]
     },
     "execution_count": 28,
     "metadata": {},
     "output_type": "execute_result"
    }
   ],
   "source": [
    "car_price"
   ]
  },
  {
   "cell_type": "code",
   "execution_count": 32,
   "metadata": {},
   "outputs": [],
   "source": [
    "car_price = [float(price) for price in car_price]"
   ]
  },
  {
   "cell_type": "code",
   "execution_count": 20,
   "metadata": {},
   "outputs": [
    {
     "data": {
      "text/plain": [
       "3                int64\n",
       "?               object\n",
       "alfa-romero     object\n",
       "gas             object\n",
       "std             object\n",
       "two             object\n",
       "convertible     object\n",
       "rwd             object\n",
       "front           object\n",
       "88.60          float64\n",
       "168.80         float64\n",
       "64.10          float64\n",
       "48.80          float64\n",
       "2548             int64\n",
       "dohc            object\n",
       "four            object\n",
       "130              int64\n",
       "mpfi            object\n",
       "3.47            object\n",
       "2.68            object\n",
       "9.00           float64\n",
       "111             object\n",
       "5000            object\n",
       "21               int64\n",
       "27               int64\n",
       "13495           object\n",
       "dtype: object"
      ]
     },
     "execution_count": 20,
     "metadata": {},
     "output_type": "execute_result"
    }
   ],
   "source": [
    "df.dtypes"
   ]
  },
  {
   "cell_type": "code",
   "execution_count": 34,
   "metadata": {},
   "outputs": [],
   "source": [
    "correlation, p_value = stats.pearsonr(engine_size, car_price)"
   ]
  },
  {
   "cell_type": "code",
   "execution_count": 38,
   "metadata": {},
   "outputs": [
    {
     "name": "stdout",
     "output_type": "stream",
     "text": [
      "Correlation: 0.8380933796879763, P-value: 4.585503826579912e-55\n"
     ]
    }
   ],
   "source": [
    "print(\"Correlation: {}, P-value: {}\".format(correlation, p_value))"
   ]
  },
  {
   "cell_type": "code",
   "execution_count": 39,
   "metadata": {},
   "outputs": [
    {
     "data": {
      "text/plain": [
       "<matplotlib.axes._subplots.AxesSubplot at 0x2107cc31898>"
      ]
     },
     "execution_count": 39,
     "metadata": {},
     "output_type": "execute_result"
    },
    {
     "data": {
      "image/png": "[encoded data removed]",
      "text/plain": [
       "<Figure size 432x288 with 2 Axes>"
      ]
     },
     "metadata": {},
     "output_type": "display_data"
    }
   ],
   "source": [
    "import seaborn as sns\n",
    "import pandas as pd\n",
    "%matplotlib inline\n",
    "\n",
    "\n",
    "# load the dataset\n",
    "auto_df = sns.load_dataset('titanic')\n",
    "\n",
    "# calculate the correlation matrix\n",
    "corr = auto_df.corr()\n",
    "\n",
    "# plot the heatmap\n",
    "sns.heatmap(corr, \n",
    "        xticklabels=corr.columns,\n",
    "        yticklabels=corr.columns)"
   ]
  },
  {
   "cell_type": "code",
   "execution_count": 40,
   "metadata": {},
   "outputs": [],
   "source": [
    "from sklearn.linear_model import LinearRegression"
   ]
  },
  {
   "cell_type": "code",
   "execution_count": 49,
   "metadata": {},
   "outputs": [
    {
     "data": {
      "text/plain": [
       "(204,)"
      ]
     },
     "execution_count": 49,
     "metadata": {},
     "output_type": "execute_result"
    }
   ],
   "source": [
    "import numpy as np\n",
    "\n",
    "np.array(x).shape"
   ]
  },
  {
   "cell_type": "code",
   "execution_count": 45,
   "metadata": {},
   "outputs": [],
   "source": [
    "x = df.iloc[:,[25]].values.ravel()\n",
    "x = df[[\"feature 1\", \"feature 2\", \"feature 3\"]]\n",
    "x = [0 if mpg=='?' else mpg for mpg in x]\n",
    "x = [float(mpg) for mpg in x]\n",
    "car_price = [float(price) for price in car_price]"
   ]
  },
  {
   "cell_type": "code",
   "execution_count": 43,
   "metadata": {},
   "outputs": [],
   "source": [
    "linear_reg = LinearRegression()"
   ]
  },
  {
   "cell_type": "code",
   "execution_count": 52,
   "metadata": {},
   "outputs": [
    {
     "data": {
      "text/plain": [
       "LinearRegression(copy_X=True, fit_intercept=True, n_jobs=1, normalize=False)"
      ]
     },
     "execution_count": 52,
     "metadata": {},
     "output_type": "execute_result"
    }
   ],
   "source": [
    "linear_reg.fit(np.array(x).reshape(-1,1), np.array(car_price).reshape(-1, 1))"
   ]
  },
  {
   "cell_type": "code",
   "execution_count": 53,
   "metadata": {},
   "outputs": [
    {
     "data": {
      "text/plain": [
       "array([[1.]])"
      ]
     },
     "execution_count": 53,
     "metadata": {},
     "output_type": "execute_result"
    }
   ],
   "source": [
    "linear_reg.coef_"
   ]
  },
  {
   "cell_type": "code",
   "execution_count": 54,
   "metadata": {},
   "outputs": [
    {
     "data": {
      "text/plain": [
       "array([1.8189894e-12])"
      ]
     },
     "execution_count": 54,
     "metadata": {},
     "output_type": "execute_result"
    }
   ],
   "source": [
    "linear_reg.intercept_"
   ]
  },
  {
   "cell_type": "code",
   "execution_count": 81,
   "metadata": {},
   "outputs": [],
   "source": [
    "import requests\n",
    "\n",
    "response = requests.get('https://api.pushshift.io'+\n",
    "                        '/reddit/search/comment/'+\n",
    "                        '?q=science+math&subreddit=askscience&sort=desc&size=10&sort_type=created_utc')\n",
    "response_json = response.json()['data']\n",
    "# len(response_json['data'])"
   ]
  },
  {
   "cell_type": "code",
   "execution_count": 82,
   "metadata": {},
   "outputs": [
    {
     "data": {
      "text/plain": [
       "[{'all_awardings': [],\n",
       "  'author': 'JStarx',\n",
       "  'author_flair_background_color': None,\n",
       "  'author_flair_css_class': None,\n",
       "  'author_flair_richtext': [],\n",
       "  'author_flair_template_id': None,\n",
       "  'author_flair_text': None,\n",
       "  'author_flair_text_color': None,\n",
       "  'author_flair_type': 'text',\n",
       "  'author_fullname': 't2_37f9m',\n",
       "  'author_patreon_flair': False,\n",
       "  'body': '&gt;Finally, on a personal note: As a computer-scientist, I find it somewhat offensive that this question, which is definitely a computer-science question, is tagged as a math-question.\\n\\nhttps://www.claymath.org/millennium-problems\\n\\nIt may also be a relevant problem to computer scientists, but it is definitely recognized as a relevant problem to mathematicians.',\n",
       "  'created_utc': 1562156747,\n",
       "  'gildings': {},\n",
       "  'id': 'eso0vga',\n",
       "  'is_submitter': False,\n",
       "  'link_id': 't3_c86y6f',\n",
       "  'locked': False,\n",
       "  'no_follow': True,\n",
       "  'parent_id': 't1_esmfztl',\n",
       "  'permalink': '/r/askscience/comments/c86y6f/can_you_brute_force_p_vs_np_by_trial_and_error/eso0vga/',\n",
       "  'retrieved_on': 1562156748,\n",
       "  'score': 1,\n",
       "  'send_replies': True,\n",
       "  'stickied': False,\n",
       "  'subreddit': 'askscience',\n",
       "  'subreddit_id': 't5_2qm4e',\n",
       "  'total_awards_received': 0},\n",
       " {'all_awardings': [],\n",
       "  'author': 'F-J-W',\n",
       "  'author_flair_background_color': None,\n",
       "  'author_flair_css_class': None,\n",
       "  'author_flair_richtext': [],\n",
       "  'author_flair_template_id': None,\n",
       "  'author_flair_text': None,\n",
       "  'author_flair_text_color': None,\n",
       "  'author_flair_type': 'text',\n",
       "  'author_fullname': 't2_cb416',\n",
       "  'author_patreon_flair': False,\n",
       "  'body': \"Assuming for a second that P = NP (which is a very absurd notion that pretty much no sane computer scientist holds) and that you have arbitrary but finite time for your search you would still not necessarily be able to proof that your algorithm works reliably: There is a chance that it is inherently impossible to ever settle that question with a proof as it might be a true statement in the axiomatic system but fall within the category of theorems that unprovable (see Gödel).\\n\\nRegarding how likely it is, that P vs NP is inherently unsolvable, you will find differing opinions: Some people view it as “technically possible, but extremely unlikely”, others are much less certain. Personally I'm definitely not well enough educated on the current state of research in that area to make strong statements, but I would not find it too surprising (certainly less than someone finding a proof in my lifetime, which I think is very unlikely).\\n\\nFinally, on a personal note: As a computer-scientist, I find it somewhat offensive that this question, which is definitely a computer-science question, is tagged as a math-question.\",\n",
       "  'created_utc': 1562104719,\n",
       "  'gildings': {},\n",
       "  'id': 'esmfztl',\n",
       "  'is_submitter': False,\n",
       "  'link_id': 't3_c86y6f',\n",
       "  'locked': False,\n",
       "  'no_follow': True,\n",
       "  'parent_id': 't3_c86y6f',\n",
       "  'permalink': '/r/askscience/comments/c86y6f/can_you_brute_force_p_vs_np_by_trial_and_error/esmfztl/',\n",
       "  'retrieved_on': 1562104730,\n",
       "  'score': -12,\n",
       "  'send_replies': True,\n",
       "  'stickied': False,\n",
       "  'subreddit': 'askscience',\n",
       "  'subreddit_id': 't5_2qm4e',\n",
       "  'total_awards_received': 0,\n",
       "  'updated_utc': 1562191118},\n",
       " {'all_awardings': [],\n",
       "  'author': 'SatanScotty',\n",
       "  'author_flair_background_color': None,\n",
       "  'author_flair_css_class': None,\n",
       "  'author_flair_richtext': [],\n",
       "  'author_flair_template_id': None,\n",
       "  'author_flair_text': None,\n",
       "  'author_flair_text_color': None,\n",
       "  'author_flair_type': 'text',\n",
       "  'author_fullname': 't2_30dpsm14',\n",
       "  'author_patreon_flair': False,\n",
       "  'body': '\"Random\" in math and science means something very specific, that all outcomes are equally likely, like rolling a die or flipping a coin. \"Stochastic\" is a more general term that means \"we don\\'t know what the outcome will be\". The best synonym for \"stochastic\" is probably the phrase \"initially undeterminable\".',\n",
       "  'created_utc': 1560995063,\n",
       "  'gildings': {},\n",
       "  'id': 'erlrobe',\n",
       "  'is_submitter': False,\n",
       "  'link_id': 't3_c2iqoq',\n",
       "  'locked': False,\n",
       "  'no_follow': True,\n",
       "  'parent_id': 't1_erloqfm',\n",
       "  'permalink': '/r/askscience/comments/c2iqoq/askscience_ama_series_we_are_prion_researchers/erlrobe/',\n",
       "  'retrieved_on': 1560995064,\n",
       "  'score': 79,\n",
       "  'send_replies': True,\n",
       "  'stickied': False,\n",
       "  'subreddit': 'askscience',\n",
       "  'subreddit_id': 't5_2qm4e',\n",
       "  'total_awards_received': 0,\n",
       "  'updated_utc': 1561081459},\n",
       " {'all_awardings': [],\n",
       "  'author': 'semiconductress',\n",
       "  'author_flair_background_color': None,\n",
       "  'author_flair_css_class': None,\n",
       "  'author_flair_richtext': [],\n",
       "  'author_flair_template_id': None,\n",
       "  'author_flair_text': None,\n",
       "  'author_flair_text_color': None,\n",
       "  'author_flair_type': 'text',\n",
       "  'author_fullname': 't2_c9x62',\n",
       "  'author_patreon_flair': False,\n",
       "  'body': 'When you get into the philosophy of physics it\\'s hard to say what is or isn\\'t \"real.\" Curved spacetime is ultimately just a scientific model, albeit a very good one, and we know that multiple models can fit reality for different purposes. Gravitons wouldn\\'t be a separate thing from curved spacetime, it\\'d just be a different way of looking at things. \\n\\nLike, particles aren\\'t actually tiny little billiard balls. They also aren\\'t exactly ripples in fields, although that is a better model. It\\'s impossible to say what they *really* are because that question is beyond the realm of physics (or any science). This is especially true of virtual particles: there\\'s no real consensus as to whether or not they \"exist\" because that\\'s not a relevant question for physics. They could just be useful for the math, but technically, so are all other particles.',\n",
       "  'created_utc': 1560965495,\n",
       "  'gildings': {},\n",
       "  'id': 'erkkk5k',\n",
       "  'is_submitter': False,\n",
       "  'link_id': 't3_c2fz37',\n",
       "  'locked': False,\n",
       "  'no_follow': True,\n",
       "  'parent_id': 't1_erkj8s9',\n",
       "  'permalink': '/r/askscience/comments/c2fz37/gravity_attracts_particles_with_mass/erkkk5k/',\n",
       "  'retrieved_on': 1560965496,\n",
       "  'score': 16,\n",
       "  'send_replies': True,\n",
       "  'stickied': False,\n",
       "  'subreddit': 'askscience',\n",
       "  'subreddit_id': 't5_2qm4e',\n",
       "  'total_awards_received': 0,\n",
       "  'updated_utc': 1561051892},\n",
       " {'all_awardings': [],\n",
       "  'author': 'ak_astronomy',\n",
       "  'author_flair_background_color': '',\n",
       "  'author_flair_css_class': 'astro',\n",
       "  'author_flair_richtext': [],\n",
       "  'author_flair_template_id': 'f0dc0362-b8f7-11e8-ac91-0ef3afb07f22',\n",
       "  'author_flair_text': 'Cold Quasar AMA',\n",
       "  'author_flair_text_color': 'dark',\n",
       "  'author_flair_type': 'text',\n",
       "  'author_fullname': 't2_3oy7gwoh',\n",
       "  'author_patreon_flair': False,\n",
       "  'body': 'Math is the language of science.',\n",
       "  'created_utc': 1560902875,\n",
       "  'gildings': {},\n",
       "  'id': 'erioaxi',\n",
       "  'is_submitter': False,\n",
       "  'link_id': 't3_c20ujb',\n",
       "  'locked': False,\n",
       "  'no_follow': True,\n",
       "  'parent_id': 't1_erhg2id',\n",
       "  'permalink': '/r/askscience/comments/c20ujb/askscience_ama_series_im_dr_allison_kirkpatrick/erioaxi/',\n",
       "  'retrieved_on': 1560902876,\n",
       "  'score': 1,\n",
       "  'send_replies': True,\n",
       "  'stickied': False,\n",
       "  'subreddit': 'askscience',\n",
       "  'subreddit_id': 't5_2qm4e',\n",
       "  'total_awards_received': 0,\n",
       "  'updated_utc': 1560989274},\n",
       " {'all_awardings': [],\n",
       "  'author': 'javierwiss',\n",
       "  'author_flair_background_color': None,\n",
       "  'author_flair_css_class': None,\n",
       "  'author_flair_richtext': [],\n",
       "  'author_flair_template_id': None,\n",
       "  'author_flair_text': None,\n",
       "  'author_flair_text_color': None,\n",
       "  'author_flair_type': 'text',\n",
       "  'author_fullname': 't2_12vo3uw7',\n",
       "  'author_patreon_flair': False,\n",
       "  'body': 'Is math related to science?',\n",
       "  'created_utc': 1560874570,\n",
       "  'gildings': {},\n",
       "  'id': 'erhg2id',\n",
       "  'is_submitter': False,\n",
       "  'link_id': 't3_c20ujb',\n",
       "  'locked': False,\n",
       "  'no_follow': True,\n",
       "  'parent_id': 't3_c20ujb',\n",
       "  'permalink': '/r/askscience/comments/c20ujb/askscience_ama_series_im_dr_allison_kirkpatrick/erhg2id/',\n",
       "  'retrieved_on': 1560874572,\n",
       "  'score': 1,\n",
       "  'send_replies': True,\n",
       "  'stickied': False,\n",
       "  'subreddit': 'askscience',\n",
       "  'subreddit_id': 't5_2qm4e',\n",
       "  'total_awards_received': 0,\n",
       "  'updated_utc': 1560960972},\n",
       " {'all_awardings': [],\n",
       "  'author': 'ScottieRobots',\n",
       "  'author_flair_background_color': None,\n",
       "  'author_flair_css_class': None,\n",
       "  'author_flair_richtext': [],\n",
       "  'author_flair_template_id': None,\n",
       "  'author_flair_text': None,\n",
       "  'author_flair_text_color': None,\n",
       "  'author_flair_type': 'text',\n",
       "  'author_fullname': 't2_10qp6g',\n",
       "  'author_patreon_flair': False,\n",
       "  'body': \"Hey there! Unrelated to your questions, but to your interest in Physics: One book you might what to look into is called Understanding Physics by the great science fiction writer Isaac Asimov.\\xa0\\xa0\\n\\n\\nI have yet to read it myself, but it has been recommend to me numerous times. It is apparently one of the best, most clearly written and thoroughly explained books on the basics of physics, heavy on concepts and understanding and lite on math.\\xa0\\xa0\\n\\n\\nIt can be had used with shipping for probably $10. You can also see a .PDF of the first portion of the book (Motion) here, if you're interested:\\xa0https://www.google.com/url?sa=t&amp;source=web&amp;rct=j&amp;url=http://www.arvindguptatoys.com/arvindgupta/phys1.pdf&amp;ved=2ahUKEwi3zqizudziAhVts1kKHe9CCOMQFjATegQIChAB&amp;usg=AOvVaw3G5GXvwxHFWcpzN63DyGMG \\xa0\\n\\n\\nIf you are at all interested is pursuing a STEM based career, continuing to expand your understanding and interest of basic physics will pay off huge. Having been in an engineering field for almost 10 years now, I see many people who have a deep but narrow understanding of engineering, focused in their field. This is completely understandable and useful. But the ones that stand out have their focus, but also have this broad base in the rest of the sciences. They can identify and debug problems, and head off bad ideas, quicker than the others. And, maybe most importantly, they can have more detailed discussions with engineers outside of their field and in other groups.\\xa0\\xa0\\n\\n\\nBest of luck in whatever you decide to do in life!\",\n",
       "  'created_utc': 1560090569,\n",
       "  'gildings': {},\n",
       "  'id': 'eqio4ih',\n",
       "  'is_submitter': False,\n",
       "  'link_id': 't3_by9cxi',\n",
       "  'locked': False,\n",
       "  'no_follow': True,\n",
       "  'parent_id': 't1_eqg6ly4',\n",
       "  'permalink': '/r/askscience/comments/by9cxi/can_metals_be_gas/eqio4ih/',\n",
       "  'retrieved_on': 1560090635,\n",
       "  'score': 1,\n",
       "  'send_replies': True,\n",
       "  'stickied': False,\n",
       "  'subreddit': 'askscience',\n",
       "  'subreddit_id': 't5_2qm4e',\n",
       "  'total_awards_received': 0,\n",
       "  'updated_utc': 1560266433},\n",
       " {'all_awardings': [],\n",
       "  'author': 'i_have_esp',\n",
       "  'author_flair_background_color': None,\n",
       "  'author_flair_css_class': None,\n",
       "  'author_flair_richtext': [],\n",
       "  'author_flair_template_id': None,\n",
       "  'author_flair_text': None,\n",
       "  'author_flair_text_color': None,\n",
       "  'author_flair_type': 'text',\n",
       "  'author_fullname': 't2_wbffw',\n",
       "  'author_patreon_flair': False,\n",
       "  'body': 'There is even more to consider here.  My abstract geometry is decades rusty at this point, but someone else will surely chime in and correct all my mistakes!\\n\\nSuppose you have a line L and some point P that isn\\'t on that line, and you want to find something \"parallel\".  Either:\\n\\n* (0) every line through P will eventually intersect L\\n* (1) there is just one line through P that does not intersect L\\n* (2) there are multiple different lines through P that do not intersect L\\n\\nGeometry doesn\\'t actually prove which of these is the case, but you can work with any one of these assumptions.  The middle one is our familiar \"euclidean geometry\".  The other two possibilities are referred to as \"non-euclidean\".  There are interesting problems and theorems that arise from all three of these branches (that would be more math than science).  There is also still debate about which is true in the physical universe.',\n",
       "  'created_utc': 1560046823,\n",
       "  'gildings': {},\n",
       "  'id': 'eqh1g9g',\n",
       "  'is_submitter': False,\n",
       "  'link_id': 't3_by8hlc',\n",
       "  'locked': False,\n",
       "  'no_follow': True,\n",
       "  'parent_id': 't3_by8hlc',\n",
       "  'permalink': '/r/askscience/comments/by8hlc/whats_the_mathematical_proof_that_demonstrates/eqh1g9g/',\n",
       "  'retrieved_on': 1560046825,\n",
       "  'score': 0,\n",
       "  'send_replies': True,\n",
       "  'stickied': False,\n",
       "  'subreddit': 'askscience',\n",
       "  'subreddit_id': 't5_2qm4e',\n",
       "  'total_awards_received': 0,\n",
       "  'updated_utc': 1560252740},\n",
       " {'all_awardings': [],\n",
       "  'author': 'theyoungmathprof',\n",
       "  'author_flair_background_color': None,\n",
       "  'author_flair_css_class': None,\n",
       "  'author_flair_richtext': [],\n",
       "  'author_flair_template_id': None,\n",
       "  'author_flair_text': None,\n",
       "  'author_flair_text_color': None,\n",
       "  'author_flair_type': 'text',\n",
       "  'author_fullname': 't2_ow897',\n",
       "  'author_patreon_flair': False,\n",
       "  'body': \"The question is difficult to answer, since energy takes many form (thermal, electrical, kinetic, etc), and science doesn't actually have a rigorous definition of energy because it's somewhat abstract.\\n\\nI have a degree in mathematics, and have no real authority on advanced scientific fields, but the heart of your question is the concept of entropy. Entropy is essentially a number given to a system to represent disorder and randomness in a system, and the second law of thermodynamics requires that this value can only increase for the universe. A refrigerator decreases entropy in the local system of its interior, but it takes energy to do that outside of the system of the refrigerator, and therefore the universal entropy increases.\\n\\nScience has yet to identify what caused the big bang, because at the surface it would appear that a system that was in equilibrium (our universe) was somehow able to manifest more matter than antimatter and thus become existent. This defies the second law of thermodynamics, so either the universe is not the entire system (ie some outside agent disturbed the equilibrium of the universe), or our understanding of science is incomplete, where there may be special cases in which the second law of thermodynamics may be violated.\\n\\nAs I said, I have no authority on science more than general understanding and some math skill, so I could be incorrect in some way, but that's how I understand science's interpretation of the current facts.\",\n",
       "  'created_utc': 1560027747,\n",
       "  'gildings': {},\n",
       "  'id': 'eqfw558',\n",
       "  'is_submitter': False,\n",
       "  'link_id': 't3_by7jho',\n",
       "  'locked': False,\n",
       "  'no_follow': True,\n",
       "  'parent_id': 't3_by7jho',\n",
       "  'permalink': '/r/askscience/comments/by7jho/is_the_amount_of_energy_in_the_universe_a_constant/eqfw558/',\n",
       "  'retrieved_on': 1560027758,\n",
       "  'score': 1,\n",
       "  'send_replies': True,\n",
       "  'stickied': False,\n",
       "  'subreddit': 'askscience',\n",
       "  'subreddit_id': 't5_2qm4e',\n",
       "  'total_awards_received': 0,\n",
       "  'updated_utc': 1560243108},\n",
       " {'all_awardings': [],\n",
       "  'author': 'AzathothBlindgod',\n",
       "  'author_flair_background_color': None,\n",
       "  'author_flair_css_class': None,\n",
       "  'author_flair_richtext': [],\n",
       "  'author_flair_template_id': None,\n",
       "  'author_flair_text': None,\n",
       "  'author_flair_text_color': None,\n",
       "  'author_flair_type': 'text',\n",
       "  'author_fullname': 't2_14mgjn',\n",
       "  'author_patreon_flair': False,\n",
       "  'body': 'If I can chime in... If you’re not big on physics and math you might consider something like astrobiology.  I think there may be some degrees available out there (University of Washington) but something like Earth Science would be a great start.  I live in the Bay Area near SETI / NASA and have met some brilliant folks in this field.',\n",
       "  'created_utc': 1559875779,\n",
       "  'gildings': {},\n",
       "  'id': 'eq8uh7a',\n",
       "  'is_submitter': False,\n",
       "  'link_id': 't3_bxfe14',\n",
       "  'locked': False,\n",
       "  'no_follow': True,\n",
       "  'parent_id': 't1_eq6j9sp',\n",
       "  'permalink': '/r/askscience/comments/bxfe14/askscience_ama_series_im_seth_shostak_senior/eq8uh7a/',\n",
       "  'retrieved_on': 1559875781,\n",
       "  'score': 5,\n",
       "  'send_replies': True,\n",
       "  'stickied': False,\n",
       "  'subreddit': 'askscience',\n",
       "  'subreddit_id': 't5_2qm4e',\n",
       "  'total_awards_received': 0,\n",
       "  'updated_utc': 1560182820}]"
      ]
     },
     "execution_count": 82,
     "metadata": {},
     "output_type": "execute_result"
    }
   ],
   "source": [
    "response_json"
   ]
  },
  {
   "cell_type": "code",
   "execution_count": 77,
   "metadata": {},
   "outputs": [
    {
     "name": "stdout",
     "output_type": "stream",
     "text": [
      "\n",
      "\n",
      "\n",
      "\n",
      "\n",
      "\n",
      "\n",
      "\n",
      "\n",
      "\n"
     ]
    }
   ],
   "source": [
    "authors_list = []\n",
    "for idx in range(10):\n",
    "    authors_list.append(response_json[idx]['author'])\n",
    "    print()"
   ]
  },
  {
   "cell_type": "code",
   "execution_count": 78,
   "metadata": {},
   "outputs": [
    {
     "data": {
      "text/plain": [
       "['AskScienceModerator',\n",
       " 'AskScienceModerator',\n",
       " 'AskScienceModerator',\n",
       " 'AskScienceModerator',\n",
       " 'AskScienceModerator',\n",
       " 'AskScienceModerator',\n",
       " 'AskScienceModerator',\n",
       " 'AskScienceModerator',\n",
       " 'AskScienceModerator',\n",
       " 'AskScienceModerator']"
      ]
     },
     "execution_count": 78,
     "metadata": {},
     "output_type": "execute_result"
    }
   ],
   "source": [
    "authors_list"
   ]
  },
  {
   "cell_type": "code",
   "execution_count": null,
   "metadata": {},
   "outputs": [],
   "source": []
  }
 ],
 "metadata": {
  "kernelspec": {
   "display_name": "Python 3",
   "language": "python",
   "name": "python3"
  },
  "language_info": {
   "codemirror_mode": {
    "name": "ipython",
    "version": 3
   },
   "file_extension": ".py",
   "mimetype": "text/x-python",
   "name": "python",
   "nbconvert_exporter": "python",
   "pygments_lexer": "ipython3",
   "version": "3.6.5"
  }
 },
 "nbformat": 4,
 "nbformat_minor": 2
}
